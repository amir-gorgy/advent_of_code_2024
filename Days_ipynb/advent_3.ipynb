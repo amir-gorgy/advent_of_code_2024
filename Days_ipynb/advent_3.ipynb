{
 "cells": [
  {
   "cell_type": "markdown",
   "metadata": {},
   "source": [
    "# Day 3: Mull It Over\n",
    "\n",
    "\"Our computers are having issues, so I have no idea if we have any Chief Historians in stock! You're welcome to check the warehouse, though,\" says the mildly flustered shopkeeper at the North Pole Toboggan Rental Shop. The Historians head out to take a look.\n",
    "\n",
    "The shopkeeper turns to you. \"Any chance you can see why our computers are having issues again?\"\n",
    "\n",
    "The computer appears to be trying to run a program, but its memory (your puzzle input) is corrupted. All of the instructions have been jumbled up!\n",
    "\n",
    "It seems like the goal of the program is just to multiply some numbers. It does that with instructions like mul(X,Y), where X and Y are each 1-3 digit numbers. For instance, mul(44,46) multiplies 44 by 46 to get a result of 2024. Similarly, mul(123,4) would multiply 123 by 4.\n",
    "\n",
    "However, because the program's memory has been corrupted, there are also many invalid characters that should be ignored, even if they look like part of a mul instruction. Sequences like mul(4*, mul(6,9!, ?(12,34), or mul ( 2 , 4 ) do nothing.\n",
    "\n",
    "For example, consider the following section of corrupted memory:\n",
    "\n",
    "x***mul(2,4)***%&mul[3,7]!@^do_not_***mul(5,5)***+mul(32,64]then(***mul(11,8)******mul(8,5)***)\n",
    "Only the four highlighted sections are real mul instructions. Adding up the result of each instruction produces 161 (2*4 + 5*5 + 11*8 + 8*5).\n",
    "\n",
    "Scan the corrupted memory for uncorrupted mul instructions. What do you get if you add up all of the results of the multiplications?"
   ]
  },
  {
   "cell_type": "markdown",
   "metadata": {},
   "source": []
  },
  {
   "cell_type": "code",
   "execution_count": null,
   "metadata": {},
   "outputs": [
    {
     "name": "stdout",
     "output_type": "stream",
     "text": [
      "None\n"
     ]
    }
   ],
   "source": [
    "import re\n",
    "\n",
    "s = 'xmul(2,4)%&mul[3,7]!@^do_not_mul(5,5)+mul(32,64]then(mul(11,8)mul(8,5))'\n",
    "\n",
    "i = 0\n",
    "res = []\n",
    "while i in range(len(s)):\n",
    "    num1 = None\n",
    "    num2 = None\n",
    "    starting_i = None\n",
    "    # check mul\n",
    "    if s[i] != 'm' or s[i+1] != 'u' and s[i+2] != 'l':\n",
    "        i += 1\n",
    "        continue\n",
    "    else:\n",
    "        starting_i = i\n",
    "        i += 3\n",
    "    \n",
    "    # check open bracket\n",
    "    if s[i] != '(':\n",
    "        i += 1\n",
    "        continue\n",
    "    else:\n",
    "        i += 1\n",
    "    \n",
    "    # check num1\n",
    "    if not s[i].isnumeric() and not num1:\n",
    "        i += 1\n",
    "        continue\n",
    "    else:\n",
    "        num1 = 0\n",
    "        while s[i].isnumeric():\n",
    "            num1 = num1*10 + int(s[i])\n",
    "            i += 1\n",
    "    \n",
    "    # check argument seperator\n",
    "    if s[i] != ',':\n",
    "        i += 1\n",
    "        continue\n",
    "    else:\n",
    "        i+=1\n",
    "    \n",
    "    # check num2\n",
    "    if not s[i].isnumeric() and not num2:\n",
    "        i += 1\n",
    "        continue\n",
    "    else:\n",
    "        num2 = 0\n",
    "        while s[i].isnumeric():\n",
    "            num2 = num2 * 10 + int(s[i])\n",
    "            i += 1\n",
    "    \n",
    "    # check closing bracket\n",
    "    if s[i] != ')':\n",
    "        i += 1\n",
    "        continue\n",
    "    else:\n",
    "        res.append(num1 * num2)\n",
    "        i += 1\n",
    "    \n",
    "    \n",
    "    \n",
    "        "
   ]
  },
  {
   "cell_type": "code",
   "execution_count": null,
   "metadata": {},
   "outputs": [],
   "source": [
    "def mull_it_over(s):\n",
    "    \n",
    "    i = 0\n",
    "    res = []\n",
    "    \n",
    "    while i in range(len(s)):\n",
    "        \n",
    "        num1 = None\n",
    "        num2 = None\n",
    "        \n",
    "        # check mul(\n",
    "        if s[i] != 'm' or s[i+1] != 'u' and s[i+2] != 'l' and s[i+3] != '(':\n",
    "            i += 1\n",
    "            continue\n",
    "        else:\n",
    "            i += 4\n",
    "            \n",
    "        # check num1\n",
    "        if not s[i].isnumeric() and not num1:\n",
    "            i += 1\n",
    "            continue\n",
    "        else:\n",
    "            num1 = 0\n",
    "            while s[i].isnumeric():\n",
    "                num1 = num1*10 + int(s[i])\n",
    "                i += 1\n",
    "        \n",
    "        # check argument seperator\n",
    "        if s[i] != ',':\n",
    "            i += 1\n",
    "            continue\n",
    "        else:\n",
    "            i+=1\n",
    "        \n",
    "        # check num2\n",
    "        if not s[i].isnumeric() and not num2:\n",
    "            i += 1\n",
    "            continue\n",
    "        else:\n",
    "            num2 = 0\n",
    "            while s[i].isnumeric():\n",
    "                num2 = num2 * 10 + int(s[i])\n",
    "                i += 1\n",
    "        \n",
    "        # check closing bracket\n",
    "        if s[i] != ')':\n",
    "            i += 1\n",
    "            continue\n",
    "        else:\n",
    "            res.append(num1 * num2)\n",
    "            i += 1\n",
    "    \n",
    "    return(sum(res))"
   ]
  },
  {
   "cell_type": "code",
   "execution_count": null,
   "metadata": {},
   "outputs": [
    {
     "data": {
      "text/plain": [
       "161"
      ]
     },
     "execution_count": 11,
     "metadata": {},
     "output_type": "execute_result"
    }
   ],
   "source": [
    "mull_it_over(s)"
   ]
  },
  {
   "cell_type": "code",
   "execution_count": 64,
   "metadata": {},
   "outputs": [
    {
     "name": "stdout",
     "output_type": "stream",
     "text": [
      "['mul(2,4)', 'mul(5,5)', 'mul(11,8)', 'mul(8,5)']\n",
      "['11', '']\n",
      "['8', '']\n",
      "['11', '8']\n"
     ]
    }
   ],
   "source": [
    "x = re.findall(\"mul\\(\\d{1,3},\\d{1,3}\\)\",s)\n",
    "print(x)\n",
    "# (.., * ,..)\n",
    "# mul(5,4)\n",
    "print(re.findall(\"\\d*(?=,)\",x[2]))\n",
    "print(re.findall(\"\\d*(?=\\))\",x[2]))\n",
    "\n",
    "print(re.findall(\"\\d+\",x[2]))\n",
    "\n"
   ]
  },
  {
   "cell_type": "code",
   "execution_count": null,
   "metadata": {},
   "outputs": [
    {
     "data": {
      "text/plain": [
       "161"
      ]
     },
     "execution_count": 176,
     "metadata": {},
     "output_type": "execute_result"
    },
    {
     "ename": "",
     "evalue": "",
     "output_type": "error",
     "traceback": [
      "\u001b[1;31mThe Kernel crashed while executing code in the current cell or a previous cell. \n",
      "\u001b[1;31mPlease review the code in the cell(s) to identify a possible cause of the failure. \n",
      "\u001b[1;31mClick <a href='https://aka.ms/vscodeJupyterKernelCrash'>here</a> for more info. \n",
      "\u001b[1;31mView Jupyter <a href='command:jupyter.viewOutput'>log</a> for further details."
     ]
    }
   ],
   "source": [
    "def mull_it_over_v2(s):\n",
    "    x = re.findall(\"(?<=mul\\()\\d+,\\d+(?=\\))\",s)\n",
    "    res = 0\n",
    "\n",
    "    for call in x:\n",
    "        nums = re.findall(\"\\d+\",call)\n",
    "        res = res + int(nums[0]) * int(nums[1])\n",
    "    \n",
    "    return res\n",
    "\n",
    "mull_it_over_v2(s)"
   ]
  },
  {
   "cell_type": "code",
   "execution_count": 136,
   "metadata": {},
   "outputs": [
    {
     "name": "stdout",
     "output_type": "stream",
     "text": [
      "['2,4', '5,5', '11,8', '8,5']\n",
      "[]\n"
     ]
    }
   ],
   "source": [
    "print(re.findall(\"(?<=mul\\()\\d+,\\d+(?=\\))\",s))\n",
    "print(re.findall(\"(?=mul\\()\\d+(?=\\))\",s))"
   ]
  },
  {
   "cell_type": "code",
   "execution_count": null,
   "metadata": {},
   "outputs": [],
   "source": []
  }
 ],
 "metadata": {
  "kernelspec": {
   "display_name": "Python 3",
   "language": "python",
   "name": "python3"
  },
  "language_info": {
   "codemirror_mode": {
    "name": "ipython",
    "version": 3
   },
   "file_extension": ".py",
   "mimetype": "text/x-python",
   "name": "python",
   "nbconvert_exporter": "python",
   "pygments_lexer": "ipython3",
   "version": "3.11.9"
  }
 },
 "nbformat": 4,
 "nbformat_minor": 2
}
