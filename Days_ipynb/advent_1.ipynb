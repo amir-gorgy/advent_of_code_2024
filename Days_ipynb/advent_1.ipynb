{
 "cells": [
  {
   "cell_type": "code",
   "execution_count": 3,
   "metadata": {},
   "outputs": [
    {
     "name": "stdout",
     "output_type": "stream",
     "text": [
      "2196996\n"
     ]
    },
    {
     "name": "stderr",
     "output_type": "stream",
     "text": [
      "C:\\Users\\mirot\\AppData\\Local\\Temp\\ipykernel_141756\\1937078838.py:3: ParserWarning: Falling back to the 'python' engine because the 'c' engine does not support regex separators (separators > 1 char and different from '\\s+' are interpreted as regex); you can avoid this warning by specifying engine='python'.\n",
      "  data = pd.read_table('advent_1_input.txt', header = None, sep = '   ')\n"
     ]
    }
   ],
   "source": [
    "# Part 1\n",
    "import pandas as pd\n",
    "\n",
    "data = pd.read_table('advent_1_input.txt', header = None, sep = '   ')\n",
    "\n",
    "s = sorted(data[:][0])\n",
    "t = sorted(data[:][1])\n",
    "\n",
    "l_s = len(s)\n",
    "l_t = len(t)\n",
    "\n",
    "res = []\n",
    "for i in range(min(l_s,l_t)):\n",
    "    res.append(abs(s[i] - t[i]))\n",
    "\n",
    "if l_s > l_t:\n",
    "    for i in range(l_t, l_s):\n",
    "        res.append(s[i])\n",
    "\n",
    "elif l_s < l_t:\n",
    "    for i in range(l_s,l_t):\n",
    "        res.append(t[i])\n",
    "\n",
    "print(sum(res))\n",
    "\n",
    "    "
   ]
  },
  {
   "cell_type": "code",
   "execution_count": 4,
   "metadata": {},
   "outputs": [
    {
     "name": "stdout",
     "output_type": "stream",
     "text": [
      "23655822\n"
     ]
    },
    {
     "name": "stderr",
     "output_type": "stream",
     "text": [
      "C:\\Users\\mirot\\AppData\\Local\\Temp\\ipykernel_141756\\1672797655.py:4: ParserWarning: Falling back to the 'python' engine because the 'c' engine does not support regex separators (separators > 1 char and different from '\\s+' are interpreted as regex); you can avoid this warning by specifying engine='python'.\n",
      "  data = pd.read_table('advent_1_input.txt', header = None, sep = '   ')\n"
     ]
    }
   ],
   "source": [
    "# Part 2\n",
    "import pandas as pd\n",
    "\n",
    "data = pd.read_table('advent_1_input.txt', header = None, sep = '   ')\n",
    "s = sorted(data[:][0])\n",
    "t = sorted(data[:][1])\n",
    "\n",
    "look_up = {}\n",
    "\n",
    "for num in t:\n",
    "    if num in look_up.keys():\n",
    "        look_up[num] += 1\n",
    "    else:\n",
    "        look_up[num] = 1\n",
    "\n",
    "res = 0\n",
    "for num in s:\n",
    "    if num in look_up.keys():\n",
    "        res = res + num * look_up[num]\n",
    "\n",
    "print(res)"
   ]
  },
  {
   "cell_type": "code",
   "execution_count": null,
   "metadata": {},
   "outputs": [],
   "source": []
  }
 ],
 "metadata": {
  "kernelspec": {
   "display_name": ".venv",
   "language": "python",
   "name": "python3"
  },
  "language_info": {
   "codemirror_mode": {
    "name": "ipython",
    "version": 3
   },
   "file_extension": ".py",
   "mimetype": "text/x-python",
   "name": "python",
   "nbconvert_exporter": "python",
   "pygments_lexer": "ipython3",
   "version": "3.11.9"
  }
 },
 "nbformat": 4,
 "nbformat_minor": 2
}
