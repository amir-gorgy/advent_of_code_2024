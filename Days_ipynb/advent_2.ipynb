{
 "cells": [
  {
   "cell_type": "markdown",
   "metadata": {},
   "source": [
    "# Day 2: Red-Nosed Reports\n",
    "Fortunately, the first location The Historians want to search isn't a long walk from the Chief Historian's office.\n",
    "\n",
    "While the Red-Nosed Reindeer nuclear fusion/fission plant appears to contain no sign of the Chief Historian, the engineers there run up to you as soon as they see you. Apparently, they still talk about the time Rudolph was saved through molecular synthesis from a single electron.\n",
    "\n",
    "They're quick to add that - since you're already here - they'd really appreciate your help analyzing some unusual data from the Red-Nosed reactor. You turn to check if The Historians are waiting for you, but they seem to have already divided into groups that are currently searching every corner of the facility. You offer to help with the unusual data.\n",
    "\n",
    "The unusual data (your puzzle input) consists of many reports, one report per line. Each report is a list of numbers called levels that are separated by spaces. For example:\n",
    "\n",
    "7 6 4 2 1  \n",
    "1 2 7 8 9  \n",
    "9 7 6 2 1  \n",
    "1 3 2 4 5  \n",
    "8 6 4 4 1  \n",
    "1 3 6 7 9  \n",
    "\n",
    "This example data contains six reports each containing five levels.\n",
    "\n",
    "The engineers are trying to figure out which reports are safe. The Red-Nosed reactor safety systems can only tolerate levels that are either gradually increasing or gradually decreasing. So, a report only counts as safe if both of the following are true:\n",
    "\n",
    "The levels are either all increasing or all decreasing.\n",
    "Any two adjacent levels differ by at least one and at most three.\n",
    "In the example above, the reports can be found safe or unsafe by checking those rules:\n",
    "\n",
    "7 6 4 2 1: **Safe** because the levels are all decreasing by 1 or 2.  \n",
    "1 2 7 8 9: **Unsafe** because 2 7 is an increase of 5.  \n",
    "9 7 6 2 1: **Unsafe** because 6 2 is a decrease of 4.  \n",
    "1 3 2 4 5: **Unsafe** because 1 3 is increasing but 3 2 is decreasing.  \n",
    "8 6 4 4 1: **Unsafe** because 4 4 is neither an increase or a decrease.  \n",
    "1 3 6 7 9: **Safe** because the levels are all increasing by 1, 2, or 3.  \n",
    "So, in this example, 2 reports are safe.  \n",
    "\n",
    "Analyze the unusual data from the engineers. How many reports are safe?"
   ]
  },
  {
   "cell_type": "code",
   "execution_count": 1,
   "metadata": {},
   "outputs": [],
   "source": [
    "import pandas as pd"
   ]
  },
  {
   "cell_type": "code",
   "execution_count": 14,
   "metadata": {},
   "outputs": [
    {
     "name": "stdout",
     "output_type": "stream",
     "text": [
      "   0  1  2  3  4\n",
      "0  7  6  4  2  1\n",
      "1  1  2  7  8  9\n",
      "2  9  7  6  2  1\n",
      "3  1  3  2  4  5\n",
      "4  8  6  4  4  1\n",
      "5  1  3  6  7  9\n"
     ]
    }
   ],
   "source": [
    "data_frame = pd.read_csv('advent_2_input.txt', header = None, sep=' ')\n",
    "\n",
    "print(data_frame)"
   ]
  },
  {
   "cell_type": "code",
   "execution_count": 36,
   "metadata": {},
   "outputs": [
    {
     "name": "stdout",
     "output_type": "stream",
     "text": [
      "[[7, 6, 4, 2, 1], [1, 2, 7, 8, 9], [9, 7, 6, 2, 1], [1, 3, 2, 4, 5], [8, 6, 4, 4, 1], [1, 3, 6, 7, 9]]\n"
     ]
    }
   ],
   "source": [
    "compare_reports = []\n",
    "\n",
    "for i in range(data_frame.shape[0]):\n",
    "    queue = []\n",
    "    for j in range(data_frame.shape[1]):\n",
    "        queue.append(data_frame[j][i])\n",
    "    \n",
    "    compare_reports.append(queue)\n",
    "\n",
    "print(compare_reports)"
   ]
  },
  {
   "cell_type": "code",
   "execution_count": null,
   "metadata": {},
   "outputs": [
    {
     "name": "stdout",
     "output_type": "stream",
     "text": [
      "2\n"
     ]
    }
   ],
   "source": [
    "res = 0\n",
    "for report in compare_reports:\n",
    "    if report[1] > report[0]:\n",
    "        increasing = True\n",
    "    elif report[1] < report[0]:\n",
    "        increasing = False\n",
    "    else:\n",
    "        continue\n",
    "    prev = None\n",
    "    count = 0\n",
    "    for num in report:\n",
    "        if increasing and ((prev and num > prev and num - prev <= 3) or prev == None) or not increasing and ((prev and num < prev and prev - num <= 3) or prev == None):\n",
    "            prev = num\n",
    "            count += 1\n",
    "        else:\n",
    "            break\n",
    "    if count == len(compare_reports[0]):\n",
    "        res += 1"
   ]
  },
  {
   "cell_type": "code",
   "execution_count": 52,
   "metadata": {},
   "outputs": [],
   "source": [
    "def compare_levels(file_input):\n",
    "    data_frame = pd.read_csv(file_input, header = None, sep=' ')\n",
    "    compare_reports = []\n",
    "\n",
    "    for i in range(data_frame.shape[0]):\n",
    "        queue = []\n",
    "        for j in range(data_frame.shape[1]):\n",
    "            queue.append(data_frame[j][i])\n",
    "        \n",
    "        compare_reports.append(queue)\n",
    "        \n",
    "    res = 0\n",
    "    for report in compare_reports:\n",
    "        if report[1] > report[0]:\n",
    "            increasing = True\n",
    "        elif report[1] < report[0]:\n",
    "            increasing = False\n",
    "        else:\n",
    "            continue\n",
    "        prev = None\n",
    "        count = 0\n",
    "        for num in report:\n",
    "            if increasing and ((prev and num > prev and num - prev <= 3) or prev == None) or not increasing and ((prev and num < prev and prev - num <= 3) or prev == None):\n",
    "                prev = num\n",
    "                count += 1\n",
    "            else:\n",
    "                break\n",
    "        if count == len(compare_reports[0]):\n",
    "            res += 1\n",
    "            \n",
    "    return res\n",
    "        "
   ]
  },
  {
   "cell_type": "code",
   "execution_count": 53,
   "metadata": {},
   "outputs": [
    {
     "data": {
      "text/plain": [
       "2"
      ]
     },
     "execution_count": 53,
     "metadata": {},
     "output_type": "execute_result"
    }
   ],
   "source": [
    "compare_levels('advent_2_input.txt')"
   ]
  },
  {
   "cell_type": "code",
   "execution_count": null,
   "metadata": {},
   "outputs": [],
   "source": []
  }
 ],
 "metadata": {
  "kernelspec": {
   "display_name": "Python 3",
   "language": "python",
   "name": "python3"
  },
  "language_info": {
   "codemirror_mode": {
    "name": "ipython",
    "version": 3
   },
   "file_extension": ".py",
   "mimetype": "text/x-python",
   "name": "python",
   "nbconvert_exporter": "python",
   "pygments_lexer": "ipython3",
   "version": "3.11.9"
  }
 },
 "nbformat": 4,
 "nbformat_minor": 2
}
